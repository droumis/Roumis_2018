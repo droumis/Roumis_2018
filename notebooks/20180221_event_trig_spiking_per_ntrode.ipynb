{
 "cells": [
  {
   "cell_type": "markdown",
   "metadata": {},
   "source": [
    "# The purpose of this notebook is to explore visualization for event-triggered spiking within ntrode, across events"
   ]
  },
  {
   "cell_type": "code",
   "execution_count": 49,
   "metadata": {},
   "outputs": [
    {
     "name": "stderr",
     "output_type": "stream",
     "text": [
      "UsageError: Line magic function `%install_ext` not found.\n"
     ]
    }
   ],
   "source": [
    "%install_ext https://raw.githubusercontent.com/SiggyF/notebooks/master/pep8_magic.py"
   ]
  },
  {
   "cell_type": "code",
   "execution_count": 48,
   "metadata": {},
   "outputs": [
    {
     "ename": "ModuleNotFoundError",
     "evalue": "No module named 'pep8_magic'",
     "output_type": "error",
     "traceback": [
      "\u001b[0;31m------------------------------------------------------------------------\u001b[0m",
      "\u001b[0;31mModuleNotFoundError\u001b[0m                    Traceback (most recent call last)",
      "\u001b[0;32m<ipython-input-48-d45dedb789b0>\u001b[0m in \u001b[0;36m<module>\u001b[0;34m()\u001b[0m\n\u001b[1;32m     10\u001b[0m \u001b[0;32mfrom\u001b[0m \u001b[0mipywidgets\u001b[0m \u001b[0;32mimport\u001b[0m \u001b[0mFloatProgress\u001b[0m\u001b[0;34m\u001b[0m\u001b[0m\n\u001b[1;32m     11\u001b[0m \u001b[0;31m# jupyter nbextension install --user pep8_magic.py\u001b[0m\u001b[0;34m\u001b[0m\u001b[0;34m\u001b[0m\u001b[0m\n\u001b[0;32m---> 12\u001b[0;31m \u001b[0mget_ipython\u001b[0m\u001b[0;34m(\u001b[0m\u001b[0;34m)\u001b[0m\u001b[0;34m.\u001b[0m\u001b[0mrun_line_magic\u001b[0m\u001b[0;34m(\u001b[0m\u001b[0;34m'load_ext'\u001b[0m\u001b[0;34m,\u001b[0m \u001b[0;34m'pep8_magic'\u001b[0m\u001b[0;34m)\u001b[0m\u001b[0;34m\u001b[0m\u001b[0m\n\u001b[0m\u001b[1;32m     13\u001b[0m \u001b[0;31m# from IPython.display import display\u001b[0m\u001b[0;34m\u001b[0m\u001b[0;34m\u001b[0m\u001b[0m\n\u001b[1;32m     14\u001b[0m \u001b[0mhv\u001b[0m\u001b[0;34m.\u001b[0m\u001b[0mnotebook_extension\u001b[0m\u001b[0;34m(\u001b[0m\u001b[0;34m'bokeh'\u001b[0m\u001b[0;34m)\u001b[0m\u001b[0;34m\u001b[0m\u001b[0m\n",
      "\u001b[0;32m~/anaconda3/envs/Roumis_2018/lib/python3.6/site-packages/IPython/core/interactiveshell.py\u001b[0m in \u001b[0;36mrun_line_magic\u001b[0;34m(self, magic_name, line, _stack_depth)\u001b[0m\n\u001b[1;32m   2093\u001b[0m                 \u001b[0mkwargs\u001b[0m\u001b[0;34m[\u001b[0m\u001b[0;34m'local_ns'\u001b[0m\u001b[0;34m]\u001b[0m \u001b[0;34m=\u001b[0m \u001b[0msys\u001b[0m\u001b[0;34m.\u001b[0m\u001b[0m_getframe\u001b[0m\u001b[0;34m(\u001b[0m\u001b[0mstack_depth\u001b[0m\u001b[0;34m)\u001b[0m\u001b[0;34m.\u001b[0m\u001b[0mf_locals\u001b[0m\u001b[0;34m\u001b[0m\u001b[0m\n\u001b[1;32m   2094\u001b[0m             \u001b[0;32mwith\u001b[0m \u001b[0mself\u001b[0m\u001b[0;34m.\u001b[0m\u001b[0mbuiltin_trap\u001b[0m\u001b[0;34m:\u001b[0m\u001b[0;34m\u001b[0m\u001b[0m\n\u001b[0;32m-> 2095\u001b[0;31m                 \u001b[0mresult\u001b[0m \u001b[0;34m=\u001b[0m \u001b[0mfn\u001b[0m\u001b[0;34m(\u001b[0m\u001b[0;34m*\u001b[0m\u001b[0margs\u001b[0m\u001b[0;34m,\u001b[0m\u001b[0;34m**\u001b[0m\u001b[0mkwargs\u001b[0m\u001b[0;34m)\u001b[0m\u001b[0;34m\u001b[0m\u001b[0m\n\u001b[0m\u001b[1;32m   2096\u001b[0m             \u001b[0;32mreturn\u001b[0m \u001b[0mresult\u001b[0m\u001b[0;34m\u001b[0m\u001b[0m\n\u001b[1;32m   2097\u001b[0m \u001b[0;34m\u001b[0m\u001b[0m\n",
      "\u001b[0;32m<decorator-gen-65>\u001b[0m in \u001b[0;36mload_ext\u001b[0;34m(self, module_str)\u001b[0m\n",
      "\u001b[0;32m~/anaconda3/envs/Roumis_2018/lib/python3.6/site-packages/IPython/core/magic.py\u001b[0m in \u001b[0;36m<lambda>\u001b[0;34m(f, *a, **k)\u001b[0m\n\u001b[1;32m    185\u001b[0m     \u001b[0;31m# but it's overkill for just that one bit of state.\u001b[0m\u001b[0;34m\u001b[0m\u001b[0;34m\u001b[0m\u001b[0m\n\u001b[1;32m    186\u001b[0m     \u001b[0;32mdef\u001b[0m \u001b[0mmagic_deco\u001b[0m\u001b[0;34m(\u001b[0m\u001b[0marg\u001b[0m\u001b[0;34m)\u001b[0m\u001b[0;34m:\u001b[0m\u001b[0;34m\u001b[0m\u001b[0m\n\u001b[0;32m--> 187\u001b[0;31m         \u001b[0mcall\u001b[0m \u001b[0;34m=\u001b[0m \u001b[0;32mlambda\u001b[0m \u001b[0mf\u001b[0m\u001b[0;34m,\u001b[0m \u001b[0;34m*\u001b[0m\u001b[0ma\u001b[0m\u001b[0;34m,\u001b[0m \u001b[0;34m**\u001b[0m\u001b[0mk\u001b[0m\u001b[0;34m:\u001b[0m \u001b[0mf\u001b[0m\u001b[0;34m(\u001b[0m\u001b[0;34m*\u001b[0m\u001b[0ma\u001b[0m\u001b[0;34m,\u001b[0m \u001b[0;34m**\u001b[0m\u001b[0mk\u001b[0m\u001b[0;34m)\u001b[0m\u001b[0;34m\u001b[0m\u001b[0m\n\u001b[0m\u001b[1;32m    188\u001b[0m \u001b[0;34m\u001b[0m\u001b[0m\n\u001b[1;32m    189\u001b[0m         \u001b[0;32mif\u001b[0m \u001b[0mcallable\u001b[0m\u001b[0;34m(\u001b[0m\u001b[0marg\u001b[0m\u001b[0;34m)\u001b[0m\u001b[0;34m:\u001b[0m\u001b[0;34m\u001b[0m\u001b[0m\n",
      "\u001b[0;32m~/anaconda3/envs/Roumis_2018/lib/python3.6/site-packages/IPython/core/magics/extension.py\u001b[0m in \u001b[0;36mload_ext\u001b[0;34m(self, module_str)\u001b[0m\n\u001b[1;32m     31\u001b[0m         \u001b[0;32mif\u001b[0m \u001b[0;32mnot\u001b[0m \u001b[0mmodule_str\u001b[0m\u001b[0;34m:\u001b[0m\u001b[0;34m\u001b[0m\u001b[0m\n\u001b[1;32m     32\u001b[0m             \u001b[0;32mraise\u001b[0m \u001b[0mUsageError\u001b[0m\u001b[0;34m(\u001b[0m\u001b[0;34m'Missing module name.'\u001b[0m\u001b[0;34m)\u001b[0m\u001b[0;34m\u001b[0m\u001b[0m\n\u001b[0;32m---> 33\u001b[0;31m         \u001b[0mres\u001b[0m \u001b[0;34m=\u001b[0m \u001b[0mself\u001b[0m\u001b[0;34m.\u001b[0m\u001b[0mshell\u001b[0m\u001b[0;34m.\u001b[0m\u001b[0mextension_manager\u001b[0m\u001b[0;34m.\u001b[0m\u001b[0mload_extension\u001b[0m\u001b[0;34m(\u001b[0m\u001b[0mmodule_str\u001b[0m\u001b[0;34m)\u001b[0m\u001b[0;34m\u001b[0m\u001b[0m\n\u001b[0m\u001b[1;32m     34\u001b[0m \u001b[0;34m\u001b[0m\u001b[0m\n\u001b[1;32m     35\u001b[0m         \u001b[0;32mif\u001b[0m \u001b[0mres\u001b[0m \u001b[0;34m==\u001b[0m \u001b[0;34m'already loaded'\u001b[0m\u001b[0;34m:\u001b[0m\u001b[0;34m\u001b[0m\u001b[0m\n",
      "\u001b[0;32m~/anaconda3/envs/Roumis_2018/lib/python3.6/site-packages/IPython/core/extensions.py\u001b[0m in \u001b[0;36mload_extension\u001b[0;34m(self, module_str)\u001b[0m\n\u001b[1;32m     83\u001b[0m             \u001b[0;32mif\u001b[0m \u001b[0mmodule_str\u001b[0m \u001b[0;32mnot\u001b[0m \u001b[0;32min\u001b[0m \u001b[0msys\u001b[0m\u001b[0;34m.\u001b[0m\u001b[0mmodules\u001b[0m\u001b[0;34m:\u001b[0m\u001b[0;34m\u001b[0m\u001b[0m\n\u001b[1;32m     84\u001b[0m                 \u001b[0;32mwith\u001b[0m \u001b[0mprepended_to_syspath\u001b[0m\u001b[0;34m(\u001b[0m\u001b[0mself\u001b[0m\u001b[0;34m.\u001b[0m\u001b[0mipython_extension_dir\u001b[0m\u001b[0;34m)\u001b[0m\u001b[0;34m:\u001b[0m\u001b[0;34m\u001b[0m\u001b[0m\n\u001b[0;32m---> 85\u001b[0;31m                     \u001b[0mmod\u001b[0m \u001b[0;34m=\u001b[0m \u001b[0mimport_module\u001b[0m\u001b[0;34m(\u001b[0m\u001b[0mmodule_str\u001b[0m\u001b[0;34m)\u001b[0m\u001b[0;34m\u001b[0m\u001b[0m\n\u001b[0m\u001b[1;32m     86\u001b[0m                     \u001b[0;32mif\u001b[0m \u001b[0mmod\u001b[0m\u001b[0;34m.\u001b[0m\u001b[0m__file__\u001b[0m\u001b[0;34m.\u001b[0m\u001b[0mstartswith\u001b[0m\u001b[0;34m(\u001b[0m\u001b[0mself\u001b[0m\u001b[0;34m.\u001b[0m\u001b[0mipython_extension_dir\u001b[0m\u001b[0;34m)\u001b[0m\u001b[0;34m:\u001b[0m\u001b[0;34m\u001b[0m\u001b[0m\n\u001b[1;32m     87\u001b[0m                         print((\"Loading extensions from {dir} is deprecated. \"\n",
      "\u001b[0;32m~/anaconda3/envs/Roumis_2018/lib/python3.6/importlib/__init__.py\u001b[0m in \u001b[0;36mimport_module\u001b[0;34m(name, package)\u001b[0m\n\u001b[1;32m    124\u001b[0m                 \u001b[0;32mbreak\u001b[0m\u001b[0;34m\u001b[0m\u001b[0m\n\u001b[1;32m    125\u001b[0m             \u001b[0mlevel\u001b[0m \u001b[0;34m+=\u001b[0m \u001b[0;36m1\u001b[0m\u001b[0;34m\u001b[0m\u001b[0m\n\u001b[0;32m--> 126\u001b[0;31m     \u001b[0;32mreturn\u001b[0m \u001b[0m_bootstrap\u001b[0m\u001b[0;34m.\u001b[0m\u001b[0m_gcd_import\u001b[0m\u001b[0;34m(\u001b[0m\u001b[0mname\u001b[0m\u001b[0;34m[\u001b[0m\u001b[0mlevel\u001b[0m\u001b[0;34m:\u001b[0m\u001b[0;34m]\u001b[0m\u001b[0;34m,\u001b[0m \u001b[0mpackage\u001b[0m\u001b[0;34m,\u001b[0m \u001b[0mlevel\u001b[0m\u001b[0;34m)\u001b[0m\u001b[0;34m\u001b[0m\u001b[0m\n\u001b[0m\u001b[1;32m    127\u001b[0m \u001b[0;34m\u001b[0m\u001b[0m\n\u001b[1;32m    128\u001b[0m \u001b[0;34m\u001b[0m\u001b[0m\n",
      "\u001b[0;32m~/anaconda3/envs/Roumis_2018/lib/python3.6/importlib/_bootstrap.py\u001b[0m in \u001b[0;36m_gcd_import\u001b[0;34m(name, package, level)\u001b[0m\n",
      "\u001b[0;32m~/anaconda3/envs/Roumis_2018/lib/python3.6/importlib/_bootstrap.py\u001b[0m in \u001b[0;36m_find_and_load\u001b[0;34m(name, import_)\u001b[0m\n",
      "\u001b[0;32m~/anaconda3/envs/Roumis_2018/lib/python3.6/importlib/_bootstrap.py\u001b[0m in \u001b[0;36m_find_and_load_unlocked\u001b[0;34m(name, import_)\u001b[0m\n",
      "\u001b[0;31mModuleNotFoundError\u001b[0m: No module named 'pep8_magic'"
     ]
    }
   ],
   "source": [
    "import loren_frank_data_processing as lfdp\n",
    "import replay_classification as replay\n",
    "import ripple_detection as ripple\n",
    "import matplotlib.pyplot as plt\n",
    "import holoviews as hv\n",
    "import inspect\n",
    "import os\n",
    "import pandas as pd\n",
    "import numpy as np\n",
    "from ipywidgets import FloatProgress\n",
    "# jupyter nbextension install --user pep8_magic.py\n",
    "%load_ext pep8_magic\n",
    "# from IPython.display import display\n",
    "hv.notebook_extension('bokeh')"
   ]
  },
  {
   "cell_type": "code",
   "execution_count": 5,
   "metadata": {},
   "outputs": [],
   "source": [
    "animal_id = 'JZ1'\n",
    "day, epoch = [1, 2]\n",
    "ripple_area = 'ca1'\n",
    "mu_areas = ['ca1', 'mec']\n",
    "animals = {\n",
    "    'JZ1': lfdp.Animal(short_name='JZ1', directory='../Raw-Data/JZ1')}\n",
    "date = 20161114\n",
    "epoch_index = ('JZ1', 1, 2)\n",
    "areas = ['ca1']\n",
    "mark_variables = ['channel_1_max', 'channel_2_max', 'channel_3_max',\n",
    "                  'channel_4_max']"
   ]
  },
  {
   "cell_type": "markdown",
   "metadata": {},
   "source": [
    "## ntrode info"
   ]
  },
  {
   "cell_type": "code",
   "execution_count": 10,
   "metadata": {},
   "outputs": [],
   "source": [
    "ntrode_df = lfdp.make_tetrode_dataframe(animals)\n",
    "ntrode_keys = ntrode_df.xs(epoch_index, drop_level=False).index.values\n",
    "ntrodes = ntrode_df.xs(epoch_index, drop_level=False).index.get_level_values('tetrode_number').tolist()\n",
    "mec_ntrode_df = ntrode_df.xs(epoch_index, drop_level=False).query('area == \"mec\"')\n",
    "ca1_ntrode_df = ntrode_df.xs(epoch_index, drop_level=False).query('area == \"ca1\"')"
   ]
  },
  {
   "cell_type": "markdown",
   "metadata": {},
   "source": [
    "## Position"
   ]
  },
  {
   "cell_type": "code",
   "execution_count": 8,
   "metadata": {},
   "outputs": [],
   "source": [
    "position_variables = ['linear_distance', 'trajectory_direction', 'speed']\n",
    "position_df = lfdp.get_interpolated_position_dataframe(epoch_index, animals)\n",
    "position_df['time'] = position_df.index #add the time index values as another col"
   ]
  },
  {
   "cell_type": "markdown",
   "metadata": {},
   "source": [
    "## ripple_times"
   ]
  },
  {
   "cell_type": "code",
   "execution_count": 11,
   "metadata": {},
   "outputs": [],
   "source": [
    "hippocampus_lfps = lfdp.get_LFPs(ca1_ntrode_df.index, animals)\n",
    "time = hippocampus_lfps.index\n",
    "sampling_frequency = 1500\n",
    "ripple_times = ripple.Kay_ripple_detector(\n",
    "        time, hippocampus_lfps.values, position_df.speed.values, sampling_frequency,\n",
    "        minimum_duration=pd.Timedelta(milliseconds=15), zscore_threshold=4)"
   ]
  },
  {
   "cell_type": "markdown",
   "metadata": {},
   "source": [
    "## MultiUnit Spikes"
   ]
  },
  {
   "cell_type": "code",
   "execution_count": 12,
   "metadata": {},
   "outputs": [
    {
     "data": {
      "application/vnd.jupyter.widget-view+json": {
       "model_id": "62f85205dd204d008894604e615d1bd7",
       "version_major": 2,
       "version_minor": 0
      },
      "text/html": [
       "<p>Failed to display Jupyter Widget of type <code>FloatProgress</code>.</p>\n",
       "<p>\n",
       "  If you're reading this message in the Jupyter Notebook or JupyterLab Notebook, it may mean\n",
       "  that the widgets JavaScript is still loading. If this message persists, it\n",
       "  likely means that the widgets JavaScript library is either not installed or\n",
       "  not enabled. See the <a href=\"https://ipywidgets.readthedocs.io/en/stable/user_install.html\">Jupyter\n",
       "  Widgets Documentation</a> for setup instructions.\n",
       "</p>\n",
       "<p>\n",
       "  If you're reading this message in another frontend (for example, a static\n",
       "  rendering on GitHub or <a href=\"https://nbviewer.jupyter.org/\">NBViewer</a>),\n",
       "  it may mean that your frontend doesn't currently support widgets.\n",
       "</p>\n"
      ],
      "text/plain": [
       "FloatProgress(value=0.0, max=30.0)"
      ]
     },
     "metadata": {},
     "output_type": "display_data"
    }
   ],
   "source": [
    "f = FloatProgress(min=0, max=ntrode_keys.shape[0])\n",
    "f.value = 0\n",
    "display(f)\n",
    "mu_df = []\n",
    "for key_num, ntrode_key in enumerate(ntrode_keys):\n",
    "    mu_df.append(lfdp.get_multiunit_indicator_dataframe(ntrode_key, animals))\n",
    "    f.value += 1"
   ]
  },
  {
   "cell_type": "markdown",
   "metadata": {},
   "source": [
    "# Peri-swr spiking per ntrode"
   ]
  },
  {
   "cell_type": "code",
   "execution_count": 19,
   "metadata": {},
   "outputs": [
    {
     "data": {
      "text/plain": [
       "array([('JZ1', 1, 2, 16), ('JZ1', 1, 2, 17), ('JZ1', 1, 2, 18),\n",
       "       ('JZ1', 1, 2, 19), ('JZ1', 1, 2, 20), ('JZ1', 1, 2, 21),\n",
       "       ('JZ1', 1, 2, 22), ('JZ1', 1, 2, 23), ('JZ1', 1, 2, 24),\n",
       "       ('JZ1', 1, 2, 25), ('JZ1', 1, 2, 26), ('JZ1', 1, 2, 27),\n",
       "       ('JZ1', 1, 2, 28), ('JZ1', 1, 2, 29), ('JZ1', 1, 2, 30)],\n",
       "      dtype=object)"
      ]
     },
     "execution_count": 19,
     "metadata": {},
     "output_type": "execute_result"
    }
   ],
   "source": [
    "ca1_ntrode_df.index.values"
   ]
  },
  {
   "cell_type": "code",
   "execution_count": 40,
   "metadata": {},
   "outputs": [],
   "source": [
    "# f = FloatProgress(min=0, max=len(ca1_ntrode_keys))\n",
    "# f.value = 0\n",
    "# display(f)\n",
    "ca1_ntrode_keys = ca1_ntrode_df.index.values\n",
    "window_offset = [-0.5, 0.5]\n",
    "sampling_frequency = 1500\n",
    "from src.visualization import plot_perievent_raster\n",
    "ca1_keys = ntrode_df.query('area == \"ca1\"').index\n",
    "num_ntrodes = len(ca1_ntrode_keys)\n",
    "col_wrap = 5\n",
    "n_rows = np.ceil(num_ntrodes / col_wrap).astype(int)"
   ]
  },
  {
   "cell_type": "code",
   "execution_count": 26,
   "metadata": {},
   "outputs": [
    {
     "data": {
      "text/plain": [
       "15"
      ]
     },
     "execution_count": 26,
     "metadata": {},
     "output_type": "execute_result"
    }
   ],
   "source": [
    "len(axes.ravel())"
   ]
  },
  {
   "cell_type": "code",
   "execution_count": 32,
   "metadata": {},
   "outputs": [
    {
     "data": {
      "text/plain": [
       "15"
      ]
     },
     "execution_count": 32,
     "metadata": {},
     "output_type": "execute_result"
    }
   ],
   "source": [
    "len(ca1_ntrode_keys)"
   ]
  },
  {
   "cell_type": "code",
   "execution_count": 39,
   "metadata": {
    "collapsed": true
   },
   "outputs": [
    {
     "data": {
      "text/html": [
       "<div>\n",
       "<style>\n",
       "    .dataframe thead tr:only-child th {\n",
       "        text-align: right;\n",
       "    }\n",
       "\n",
       "    .dataframe thead th {\n",
       "        text-align: left;\n",
       "    }\n",
       "\n",
       "    .dataframe tbody tr th {\n",
       "        vertical-align: top;\n",
       "    }\n",
       "</style>\n",
       "<table border=\"1\" class=\"dataframe\">\n",
       "  <thead>\n",
       "    <tr style=\"text-align: right;\">\n",
       "      <th></th>\n",
       "      <th>start_time</th>\n",
       "      <th>end_time</th>\n",
       "    </tr>\n",
       "    <tr>\n",
       "      <th>ripple_number</th>\n",
       "      <th></th>\n",
       "      <th></th>\n",
       "    </tr>\n",
       "  </thead>\n",
       "  <tbody>\n",
       "    <tr>\n",
       "      <th>1</th>\n",
       "      <td>00:28:07.081867</td>\n",
       "      <td>00:28:07.135200</td>\n",
       "    </tr>\n",
       "    <tr>\n",
       "      <th>2</th>\n",
       "      <td>00:28:09.424533</td>\n",
       "      <td>00:28:09.501200</td>\n",
       "    </tr>\n",
       "    <tr>\n",
       "      <th>3</th>\n",
       "      <td>00:28:13.159200</td>\n",
       "      <td>00:28:13.207200</td>\n",
       "    </tr>\n",
       "    <tr>\n",
       "      <th>4</th>\n",
       "      <td>00:28:14.932533</td>\n",
       "      <td>00:28:15.001200</td>\n",
       "    </tr>\n",
       "    <tr>\n",
       "      <th>5</th>\n",
       "      <td>00:28:16.880533</td>\n",
       "      <td>00:28:16.961867</td>\n",
       "    </tr>\n",
       "    <tr>\n",
       "      <th>6</th>\n",
       "      <td>00:28:19.627867</td>\n",
       "      <td>00:28:19.706533</td>\n",
       "    </tr>\n",
       "    <tr>\n",
       "      <th>7</th>\n",
       "      <td>00:28:34.423200</td>\n",
       "      <td>00:28:34.734533</td>\n",
       "    </tr>\n",
       "    <tr>\n",
       "      <th>8</th>\n",
       "      <td>00:28:39.040533</td>\n",
       "      <td>00:28:39.099867</td>\n",
       "    </tr>\n",
       "    <tr>\n",
       "      <th>9</th>\n",
       "      <td>00:28:39.481200</td>\n",
       "      <td>00:28:39.554533</td>\n",
       "    </tr>\n",
       "    <tr>\n",
       "      <th>10</th>\n",
       "      <td>00:28:40.797200</td>\n",
       "      <td>00:28:40.913200</td>\n",
       "    </tr>\n",
       "    <tr>\n",
       "      <th>11</th>\n",
       "      <td>00:28:41.599200</td>\n",
       "      <td>00:28:41.693200</td>\n",
       "    </tr>\n",
       "    <tr>\n",
       "      <th>12</th>\n",
       "      <td>00:28:41.745200</td>\n",
       "      <td>00:28:41.881200</td>\n",
       "    </tr>\n",
       "    <tr>\n",
       "      <th>13</th>\n",
       "      <td>00:28:41.889200</td>\n",
       "      <td>00:28:41.941867</td>\n",
       "    </tr>\n",
       "    <tr>\n",
       "      <th>14</th>\n",
       "      <td>00:28:46.689867</td>\n",
       "      <td>00:28:46.747200</td>\n",
       "    </tr>\n",
       "    <tr>\n",
       "      <th>15</th>\n",
       "      <td>00:28:46.907867</td>\n",
       "      <td>00:28:46.964533</td>\n",
       "    </tr>\n",
       "    <tr>\n",
       "      <th>16</th>\n",
       "      <td>00:28:51.035867</td>\n",
       "      <td>00:28:51.097867</td>\n",
       "    </tr>\n",
       "    <tr>\n",
       "      <th>17</th>\n",
       "      <td>00:28:52.433200</td>\n",
       "      <td>00:28:52.499200</td>\n",
       "    </tr>\n",
       "    <tr>\n",
       "      <th>18</th>\n",
       "      <td>00:28:53.037200</td>\n",
       "      <td>00:28:53.093867</td>\n",
       "    </tr>\n",
       "    <tr>\n",
       "      <th>19</th>\n",
       "      <td>00:28:54.118533</td>\n",
       "      <td>00:28:54.175867</td>\n",
       "    </tr>\n",
       "    <tr>\n",
       "      <th>20</th>\n",
       "      <td>00:28:57.065866</td>\n",
       "      <td>00:28:57.110533</td>\n",
       "    </tr>\n",
       "    <tr>\n",
       "      <th>21</th>\n",
       "      <td>00:28:57.759867</td>\n",
       "      <td>00:28:57.816533</td>\n",
       "    </tr>\n",
       "    <tr>\n",
       "      <th>22</th>\n",
       "      <td>00:29:01.383867</td>\n",
       "      <td>00:29:01.471200</td>\n",
       "    </tr>\n",
       "    <tr>\n",
       "      <th>23</th>\n",
       "      <td>00:29:04.193200</td>\n",
       "      <td>00:29:04.340533</td>\n",
       "    </tr>\n",
       "    <tr>\n",
       "      <th>24</th>\n",
       "      <td>00:29:08.516533</td>\n",
       "      <td>00:29:08.569867</td>\n",
       "    </tr>\n",
       "    <tr>\n",
       "      <th>25</th>\n",
       "      <td>00:29:14.030533</td>\n",
       "      <td>00:29:14.122533</td>\n",
       "    </tr>\n",
       "    <tr>\n",
       "      <th>26</th>\n",
       "      <td>00:29:14.205200</td>\n",
       "      <td>00:29:14.247867</td>\n",
       "    </tr>\n",
       "    <tr>\n",
       "      <th>27</th>\n",
       "      <td>00:29:19.487867</td>\n",
       "      <td>00:29:19.578533</td>\n",
       "    </tr>\n",
       "    <tr>\n",
       "      <th>28</th>\n",
       "      <td>00:29:35.443200</td>\n",
       "      <td>00:29:35.501866</td>\n",
       "    </tr>\n",
       "    <tr>\n",
       "      <th>29</th>\n",
       "      <td>00:29:36.669867</td>\n",
       "      <td>00:29:36.729867</td>\n",
       "    </tr>\n",
       "    <tr>\n",
       "      <th>30</th>\n",
       "      <td>00:29:41.715200</td>\n",
       "      <td>00:29:41.751200</td>\n",
       "    </tr>\n",
       "    <tr>\n",
       "      <th>...</th>\n",
       "      <td>...</td>\n",
       "      <td>...</td>\n",
       "    </tr>\n",
       "    <tr>\n",
       "      <th>131</th>\n",
       "      <td>00:44:25.540533</td>\n",
       "      <td>00:44:25.655867</td>\n",
       "    </tr>\n",
       "    <tr>\n",
       "      <th>132</th>\n",
       "      <td>00:44:27.425200</td>\n",
       "      <td>00:44:27.512533</td>\n",
       "    </tr>\n",
       "    <tr>\n",
       "      <th>133</th>\n",
       "      <td>00:44:31.780533</td>\n",
       "      <td>00:44:31.864533</td>\n",
       "    </tr>\n",
       "    <tr>\n",
       "      <th>134</th>\n",
       "      <td>00:44:36.675200</td>\n",
       "      <td>00:44:36.809200</td>\n",
       "    </tr>\n",
       "    <tr>\n",
       "      <th>135</th>\n",
       "      <td>00:44:39.189867</td>\n",
       "      <td>00:44:39.265200</td>\n",
       "    </tr>\n",
       "    <tr>\n",
       "      <th>136</th>\n",
       "      <td>00:44:43.715867</td>\n",
       "      <td>00:44:43.839200</td>\n",
       "    </tr>\n",
       "    <tr>\n",
       "      <th>137</th>\n",
       "      <td>00:44:46.861200</td>\n",
       "      <td>00:44:46.928533</td>\n",
       "    </tr>\n",
       "    <tr>\n",
       "      <th>138</th>\n",
       "      <td>00:44:47.691867</td>\n",
       "      <td>00:44:47.789867</td>\n",
       "    </tr>\n",
       "    <tr>\n",
       "      <th>139</th>\n",
       "      <td>00:44:50.197200</td>\n",
       "      <td>00:44:50.274533</td>\n",
       "    </tr>\n",
       "    <tr>\n",
       "      <th>140</th>\n",
       "      <td>00:44:51.507866</td>\n",
       "      <td>00:44:51.590533</td>\n",
       "    </tr>\n",
       "    <tr>\n",
       "      <th>141</th>\n",
       "      <td>00:44:53.689867</td>\n",
       "      <td>00:44:53.819200</td>\n",
       "    </tr>\n",
       "    <tr>\n",
       "      <th>142</th>\n",
       "      <td>00:44:53.895867</td>\n",
       "      <td>00:44:53.991867</td>\n",
       "    </tr>\n",
       "    <tr>\n",
       "      <th>143</th>\n",
       "      <td>00:44:54.055867</td>\n",
       "      <td>00:44:54.147867</td>\n",
       "    </tr>\n",
       "    <tr>\n",
       "      <th>144</th>\n",
       "      <td>00:45:09.473200</td>\n",
       "      <td>00:45:09.599200</td>\n",
       "    </tr>\n",
       "    <tr>\n",
       "      <th>145</th>\n",
       "      <td>00:45:14.214533</td>\n",
       "      <td>00:45:14.309200</td>\n",
       "    </tr>\n",
       "    <tr>\n",
       "      <th>146</th>\n",
       "      <td>00:45:22.743867</td>\n",
       "      <td>00:45:22.891867</td>\n",
       "    </tr>\n",
       "    <tr>\n",
       "      <th>147</th>\n",
       "      <td>00:45:30.809200</td>\n",
       "      <td>00:45:30.917200</td>\n",
       "    </tr>\n",
       "    <tr>\n",
       "      <th>148</th>\n",
       "      <td>00:45:44.508533</td>\n",
       "      <td>00:45:44.653867</td>\n",
       "    </tr>\n",
       "    <tr>\n",
       "      <th>149</th>\n",
       "      <td>00:45:57.785867</td>\n",
       "      <td>00:45:57.870533</td>\n",
       "    </tr>\n",
       "    <tr>\n",
       "      <th>150</th>\n",
       "      <td>00:46:14.680533</td>\n",
       "      <td>00:46:14.822533</td>\n",
       "    </tr>\n",
       "    <tr>\n",
       "      <th>151</th>\n",
       "      <td>00:46:26.249200</td>\n",
       "      <td>00:46:26.363200</td>\n",
       "    </tr>\n",
       "    <tr>\n",
       "      <th>152</th>\n",
       "      <td>00:46:45.655200</td>\n",
       "      <td>00:46:45.806533</td>\n",
       "    </tr>\n",
       "    <tr>\n",
       "      <th>153</th>\n",
       "      <td>00:46:54.272533</td>\n",
       "      <td>00:46:54.391867</td>\n",
       "    </tr>\n",
       "    <tr>\n",
       "      <th>154</th>\n",
       "      <td>00:47:00.201200</td>\n",
       "      <td>00:47:00.272533</td>\n",
       "    </tr>\n",
       "    <tr>\n",
       "      <th>155</th>\n",
       "      <td>00:47:00.670533</td>\n",
       "      <td>00:47:00.720533</td>\n",
       "    </tr>\n",
       "    <tr>\n",
       "      <th>156</th>\n",
       "      <td>00:47:10.161200</td>\n",
       "      <td>00:47:10.259200</td>\n",
       "    </tr>\n",
       "    <tr>\n",
       "      <th>157</th>\n",
       "      <td>00:47:26.610533</td>\n",
       "      <td>00:47:26.661200</td>\n",
       "    </tr>\n",
       "    <tr>\n",
       "      <th>158</th>\n",
       "      <td>00:47:35.237200</td>\n",
       "      <td>00:47:35.306533</td>\n",
       "    </tr>\n",
       "    <tr>\n",
       "      <th>159</th>\n",
       "      <td>00:47:39.923200</td>\n",
       "      <td>00:47:39.998533</td>\n",
       "    </tr>\n",
       "    <tr>\n",
       "      <th>160</th>\n",
       "      <td>00:47:44.371867</td>\n",
       "      <td>00:47:44.476533</td>\n",
       "    </tr>\n",
       "  </tbody>\n",
       "</table>\n",
       "<p>160 rows × 2 columns</p>\n",
       "</div>"
      ],
      "text/plain": [
       "                   start_time        end_time\n",
       "ripple_number                                \n",
       "1             00:28:07.081867 00:28:07.135200\n",
       "2             00:28:09.424533 00:28:09.501200\n",
       "3             00:28:13.159200 00:28:13.207200\n",
       "4             00:28:14.932533 00:28:15.001200\n",
       "5             00:28:16.880533 00:28:16.961867\n",
       "6             00:28:19.627867 00:28:19.706533\n",
       "7             00:28:34.423200 00:28:34.734533\n",
       "8             00:28:39.040533 00:28:39.099867\n",
       "9             00:28:39.481200 00:28:39.554533\n",
       "10            00:28:40.797200 00:28:40.913200\n",
       "11            00:28:41.599200 00:28:41.693200\n",
       "12            00:28:41.745200 00:28:41.881200\n",
       "13            00:28:41.889200 00:28:41.941867\n",
       "14            00:28:46.689867 00:28:46.747200\n",
       "15            00:28:46.907867 00:28:46.964533\n",
       "16            00:28:51.035867 00:28:51.097867\n",
       "17            00:28:52.433200 00:28:52.499200\n",
       "18            00:28:53.037200 00:28:53.093867\n",
       "19            00:28:54.118533 00:28:54.175867\n",
       "20            00:28:57.065866 00:28:57.110533\n",
       "21            00:28:57.759867 00:28:57.816533\n",
       "22            00:29:01.383867 00:29:01.471200\n",
       "23            00:29:04.193200 00:29:04.340533\n",
       "24            00:29:08.516533 00:29:08.569867\n",
       "25            00:29:14.030533 00:29:14.122533\n",
       "26            00:29:14.205200 00:29:14.247867\n",
       "27            00:29:19.487867 00:29:19.578533\n",
       "28            00:29:35.443200 00:29:35.501866\n",
       "29            00:29:36.669867 00:29:36.729867\n",
       "30            00:29:41.715200 00:29:41.751200\n",
       "...                       ...             ...\n",
       "131           00:44:25.540533 00:44:25.655867\n",
       "132           00:44:27.425200 00:44:27.512533\n",
       "133           00:44:31.780533 00:44:31.864533\n",
       "134           00:44:36.675200 00:44:36.809200\n",
       "135           00:44:39.189867 00:44:39.265200\n",
       "136           00:44:43.715867 00:44:43.839200\n",
       "137           00:44:46.861200 00:44:46.928533\n",
       "138           00:44:47.691867 00:44:47.789867\n",
       "139           00:44:50.197200 00:44:50.274533\n",
       "140           00:44:51.507866 00:44:51.590533\n",
       "141           00:44:53.689867 00:44:53.819200\n",
       "142           00:44:53.895867 00:44:53.991867\n",
       "143           00:44:54.055867 00:44:54.147867\n",
       "144           00:45:09.473200 00:45:09.599200\n",
       "145           00:45:14.214533 00:45:14.309200\n",
       "146           00:45:22.743867 00:45:22.891867\n",
       "147           00:45:30.809200 00:45:30.917200\n",
       "148           00:45:44.508533 00:45:44.653867\n",
       "149           00:45:57.785867 00:45:57.870533\n",
       "150           00:46:14.680533 00:46:14.822533\n",
       "151           00:46:26.249200 00:46:26.363200\n",
       "152           00:46:45.655200 00:46:45.806533\n",
       "153           00:46:54.272533 00:46:54.391867\n",
       "154           00:47:00.201200 00:47:00.272533\n",
       "155           00:47:00.670533 00:47:00.720533\n",
       "156           00:47:10.161200 00:47:10.259200\n",
       "157           00:47:26.610533 00:47:26.661200\n",
       "158           00:47:35.237200 00:47:35.306533\n",
       "159           00:47:39.923200 00:47:39.998533\n",
       "160           00:47:44.371867 00:47:44.476533\n",
       "\n",
       "[160 rows x 2 columns]"
      ]
     },
     "execution_count": 39,
     "metadata": {},
     "output_type": "execute_result"
    }
   ],
   "source": [
    "events"
   ]
  },
  {
   "cell_type": "markdown",
   "metadata": {},
   "source": [
    "# matplotlib"
   ]
  },
  {
   "cell_type": "code",
   "execution_count": 47,
   "metadata": {},
   "outputs": [],
   "source": [
    "import src.visualization as viz\n",
    "fig, axes = plt.subplots(n_rows, col_wrap, figsize=(col_wrap * 3, n_rows * 3), sharex=True, sharey=True)\n",
    "ntrode_keys = ca1_ntrode_keys\n",
    "for ntrode, ax, tetrode_key in zip(np.arange(len(ntrode_keys)), axes.ravel(), ntrode_keys):\n",
    "#     plot_perievent_raster(ntrode_key, animals, ripple_times,\n",
    "#                           ntrode_df, window_offset=(-0.5, 0.5),\n",
    "#                           ax=ax, s=1)\n",
    "    spikes = mu_df[ntrode]['channel_1_max'].notnull().astype('int')\n",
    "    events = ripple_times\n",
    "    event_locked_spikes = lfdp.reshape_to_segments(spikes, events,\n",
    "                                                   window_offset=window_offset,\n",
    "                                                   sampling_frequency=sampling_frequency).unstack(level=0).fillna(0)\n",
    "    time = event_locked_spikes.index.total_seconds()\n",
    "    spike_index, event_number = np.nonzero(event_locked_spikes.values)\n",
    "\n",
    "    ax.scatter(time[spike_index], event_number)\n",
    "    ax.axvline(0.0, color='black')\n",
    "    ax.set_title(\n",
    "        ntrode_df.loc[ca1_ntrode_keys[ntrode][:4]].area.upper() + ' - ' +\n",
    "        str(ca1_ntrode_keys[ntrode]))\n",
    "    ax.set_ylabel(events.index.name)\n",
    "    ax.set_xlabel('time (seconds)')\n",
    "    ax.set_ylim((0, events.index.max() + 1))\n",
    "    ax.set_xlim(window_offset)\n",
    "\n",
    "    ax2 = ax.twinx()\n",
    "    kde = viz.kernel_density_estimate(event_locked_spikes, sampling_frequency, sigma=0.025)\n",
    "    m = ax2.plot(time, kde[:, 1], color='blue', alpha=0.8)\n",
    "    ax2.fill_between(time, kde[:, 0], kde[:, 2], color=m[0].get_color(), alpha=0.2)\n",
    "    ax2.set_ylabel('Firing Rate (spikes / s)')"
   ]
  },
  {
   "cell_type": "code",
   "execution_count": 45,
   "metadata": {},
   "outputs": [],
   "source": [
    "    \n",
    "for ax in axes.ravel()[len(ntrode_keys):]:\n",
    "    ax.axis('off')\n",
    "plt.tight_layout()"
   ]
  },
  {
   "cell_type": "code",
   "execution_count": null,
   "metadata": {},
   "outputs": [],
   "source": [
    "# import src.visualization as viz\n",
    "# os.system('subl {0}'.format(viz.__file__))"
   ]
  }
 ],
 "metadata": {
  "kernelspec": {
   "display_name": "Python 3",
   "language": "python",
   "name": "python3"
  },
  "language_info": {
   "codemirror_mode": {
    "name": "ipython",
    "version": 3
   },
   "file_extension": ".py",
   "mimetype": "text/x-python",
   "name": "python",
   "nbconvert_exporter": "python",
   "pygments_lexer": "ipython3",
   "version": "3.6.3"
  }
 },
 "nbformat": 4,
 "nbformat_minor": 2
}
