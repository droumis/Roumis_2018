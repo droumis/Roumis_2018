{
 "cells": [
  {
   "cell_type": "markdown",
   "metadata": {},
   "source": [
    "# The purpose of this notebook is to explore visualization for event-triggered spiking within ntrode, across events"
   ]
  },
  {
   "cell_type": "markdown",
   "metadata": {},
   "source": [
    "### starting with eric's code"
   ]
  },
  {
   "cell_type": "code",
   "execution_count": null,
   "metadata": {},
   "outputs": [],
   "source": [
    "f = FloatProgress(min=0, max=len(ca1_ntrode_keys))\n",
    "f.value = 0\n",
    "display(f)\n",
    "from src.visualization import plot_perievent_raster\n",
    "\n",
    "# ca1_keys = ntrode_df.query('area == \"ca1\"').index\n",
    "num_ntrodes = len(ca1_ntrode_keys)\n",
    "col_wrap = 5\n",
    "n_rows = np.ceil(num_ntrodes / col_wrap).astype(int)"
   ]
  },
  {
   "cell_type": "code",
   "execution_count": null,
   "metadata": {},
   "outputs": [],
   "source": [
    "fig, axes = plt.subplots() #n_rows, col_wrap, figsize=(col_wrap * 3, n_rows * 3), sharex=True, sharey=True)\n",
    "\n",
    "for i, ax, ntrode_key in enumerate(zip(axes.ravel(), ca1_ntrode_keys))\n",
    "#     plot_perievent_raster(ntrode_key, animals, ripple_times,\n",
    "#                           ntrode_df, window_offset=(-0.5, 0.5),\n",
    "#                           ax=ax, s=1)\n",
    "    spikes = mu_df[i].sum(axis=1) > 0) * 1.0\n",
    "    event_locked_spikes = reshape_to_segments(\n",
    "        spikes, events, window_offset=window_offset,\n",
    "        sampling_frequency=sampling_frequency).unstack(level=0).fillna(0)\n",
    "    time = event_locked_spikes.index.total_seconds()\n",
    "    spike_index, event_number = np.nonzero(event_locked_spikes.values)\n",
    "\n",
    "    ax.scatter(time[spike_index], event_number, **scatter_kwargs)\n",
    "    ax.axvline(0.0, color='black')\n",
    "    ax.set_title(\n",
    "        tetrode_info.loc[neuron_or_tetrode_key[:4]].area.upper() + ' - ' +\n",
    "        str(neuron_or_tetrode_key))\n",
    "    ax.set_ylabel(events.index.name)\n",
    "    ax.set_xlabel('time (seconds)')\n",
    "    ax.set_ylim((0, events.index.max() + 1))\n",
    "    ax.set_xlim(window_offset)\n",
    "\n",
    "    ax2 = ax.twinx()\n",
    "    kde = kernel_density_estimate(event_locked_spikes, sampling_frequency, sigma=0.025)\n",
    "    m = ax2.plot(time, kde[:, 1], color='blue', alpha=0.8)\n",
    "    ax2.fill_between(time, kde[:, 0], kde[:, 2], color=m[0].get_color(), alpha=0.2)\n",
    "    ax2.set_ylabel('Firing Rate (spikes / s)')\n",
    "    f.value += 1\n",
    "    \n",
    "for ax in axes.ravel()[n_tetrodes:]:\n",
    "    ax.axis('off')\n",
    "plt.tight_layout()\n"
   ]
  },
  {
   "cell_type": "code",
   "execution_count": null,
   "metadata": {},
   "outputs": [],
   "source": [
    "import src.visualization as viz\n",
    "os.system('subl {0}'.format(viz.__file__))"
   ]
  }
 ],
 "metadata": {
  "kernelspec": {
   "display_name": "Python 3",
   "language": "python",
   "name": "python3"
  },
  "language_info": {
   "codemirror_mode": {
    "name": "ipython",
    "version": 3
   },
   "file_extension": ".py",
   "mimetype": "text/x-python",
   "name": "python",
   "nbconvert_exporter": "python",
   "pygments_lexer": "ipython3",
   "version": "3.6.3"
  }
 },
 "nbformat": 4,
 "nbformat_minor": 2
}
